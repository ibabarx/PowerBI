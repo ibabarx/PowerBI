{
 "cells": [
  {
   "cell_type": "code",
   "execution_count": 1,
   "id": "639b5e3c",
   "metadata": {},
   "outputs": [],
   "source": [
    "import pandas as pd"
   ]
  },
  {
   "cell_type": "code",
   "execution_count": 2,
   "id": "4bbb9c6d",
   "metadata": {},
   "outputs": [],
   "source": [
    "data = pd.read_csv('combined_file.csv')"
   ]
  },
  {
   "cell_type": "code",
   "execution_count": 3,
   "id": "a8230a99",
   "metadata": {},
   "outputs": [
    {
     "data": {
      "text/html": [
       "<div>\n",
       "<style scoped>\n",
       "    .dataframe tbody tr th:only-of-type {\n",
       "        vertical-align: middle;\n",
       "    }\n",
       "\n",
       "    .dataframe tbody tr th {\n",
       "        vertical-align: top;\n",
       "    }\n",
       "\n",
       "    .dataframe thead th {\n",
       "        text-align: right;\n",
       "    }\n",
       "</style>\n",
       "<table border=\"1\" class=\"dataframe\">\n",
       "  <thead>\n",
       "    <tr style=\"text-align: right;\">\n",
       "      <th></th>\n",
       "      <th>Name</th>\n",
       "      <th>Date</th>\n",
       "      <th>Open</th>\n",
       "      <th>High</th>\n",
       "      <th>Low</th>\n",
       "      <th>Close</th>\n",
       "      <th>Adj Close</th>\n",
       "      <th>Volume</th>\n",
       "    </tr>\n",
       "  </thead>\n",
       "  <tbody>\n",
       "    <tr>\n",
       "      <th>0</th>\n",
       "      <td>AMZN</td>\n",
       "      <td>7/30/18</td>\n",
       "      <td>91.366501</td>\n",
       "      <td>91.474998</td>\n",
       "      <td>88.301003</td>\n",
       "      <td>88.960999</td>\n",
       "      <td>88.960999</td>\n",
       "      <td>131246000</td>\n",
       "    </tr>\n",
       "    <tr>\n",
       "      <th>1</th>\n",
       "      <td>AMZN</td>\n",
       "      <td>7/31/18</td>\n",
       "      <td>89.324501</td>\n",
       "      <td>90.091499</td>\n",
       "      <td>86.966003</td>\n",
       "      <td>88.872002</td>\n",
       "      <td>88.872002</td>\n",
       "      <td>114774000</td>\n",
       "    </tr>\n",
       "    <tr>\n",
       "      <th>2</th>\n",
       "      <td>AMZN</td>\n",
       "      <td>8/1/18</td>\n",
       "      <td>89.199997</td>\n",
       "      <td>89.921997</td>\n",
       "      <td>88.801003</td>\n",
       "      <td>89.858498</td>\n",
       "      <td>89.858498</td>\n",
       "      <td>83062000</td>\n",
       "    </tr>\n",
       "    <tr>\n",
       "      <th>3</th>\n",
       "      <td>AMZN</td>\n",
       "      <td>8/2/18</td>\n",
       "      <td>89.438499</td>\n",
       "      <td>91.828003</td>\n",
       "      <td>89.300003</td>\n",
       "      <td>91.716499</td>\n",
       "      <td>91.716499</td>\n",
       "      <td>87094000</td>\n",
       "    </tr>\n",
       "    <tr>\n",
       "      <th>4</th>\n",
       "      <td>AMZN</td>\n",
       "      <td>8/3/18</td>\n",
       "      <td>91.887001</td>\n",
       "      <td>92.050003</td>\n",
       "      <td>91.074997</td>\n",
       "      <td>91.164497</td>\n",
       "      <td>91.164497</td>\n",
       "      <td>69210000</td>\n",
       "    </tr>\n",
       "  </tbody>\n",
       "</table>\n",
       "</div>"
      ],
      "text/plain": [
       "   Name     Date       Open       High        Low      Close  Adj Close  \\\n",
       "0  AMZN  7/30/18  91.366501  91.474998  88.301003  88.960999  88.960999   \n",
       "1  AMZN  7/31/18  89.324501  90.091499  86.966003  88.872002  88.872002   \n",
       "2  AMZN   8/1/18  89.199997  89.921997  88.801003  89.858498  89.858498   \n",
       "3  AMZN   8/2/18  89.438499  91.828003  89.300003  91.716499  91.716499   \n",
       "4  AMZN   8/3/18  91.887001  92.050003  91.074997  91.164497  91.164497   \n",
       "\n",
       "      Volume  \n",
       "0  131246000  \n",
       "1  114774000  \n",
       "2   83062000  \n",
       "3   87094000  \n",
       "4   69210000  "
      ]
     },
     "execution_count": 3,
     "metadata": {},
     "output_type": "execute_result"
    }
   ],
   "source": [
    "data.head()"
   ]
  },
  {
   "cell_type": "code",
   "execution_count": 4,
   "id": "18595e35",
   "metadata": {},
   "outputs": [
    {
     "data": {
      "text/plain": [
       "(8812, 8)"
      ]
     },
     "execution_count": 4,
     "metadata": {},
     "output_type": "execute_result"
    }
   ],
   "source": [
    "data.shape"
   ]
  },
  {
   "cell_type": "code",
   "execution_count": 5,
   "id": "dc8b6217",
   "metadata": {},
   "outputs": [
    {
     "data": {
      "text/plain": [
       "Name         0\n",
       "Date         0\n",
       "Open         0\n",
       "High         0\n",
       "Low          0\n",
       "Close        0\n",
       "Adj Close    0\n",
       "Volume       0\n",
       "dtype: int64"
      ]
     },
     "execution_count": 5,
     "metadata": {},
     "output_type": "execute_result"
    }
   ],
   "source": [
    "data.isnull().sum()"
   ]
  },
  {
   "cell_type": "code",
   "execution_count": 9,
   "id": "ceb37d26",
   "metadata": {},
   "outputs": [
    {
     "data": {
      "text/plain": [
       "AMZN    1258\n",
       "META    1258\n",
       "NVDA    1258\n",
       "MSFT    1258\n",
       "GOOG    1258\n",
       "NFLX    1258\n",
       "AAPL    1258\n",
       "Name       6\n",
       "Name: Name, dtype: int64"
      ]
     },
     "execution_count": 9,
     "metadata": {},
     "output_type": "execute_result"
    }
   ],
   "source": [
    "data['Name'].value_counts()"
   ]
  },
  {
   "cell_type": "code",
   "execution_count": 10,
   "id": "40173622",
   "metadata": {},
   "outputs": [],
   "source": [
    "data = data[~data['Name'].isin(['Name'])]"
   ]
  },
  {
   "cell_type": "code",
   "execution_count": 11,
   "id": "5a34ad8e",
   "metadata": {},
   "outputs": [],
   "source": [
    "data.to_csv('data.csv', index=False)"
   ]
  }
 ],
 "metadata": {
  "kernelspec": {
   "display_name": "Python 3 (ipykernel)",
   "language": "python",
   "name": "python3"
  },
  "language_info": {
   "codemirror_mode": {
    "name": "ipython",
    "version": 3
   },
   "file_extension": ".py",
   "mimetype": "text/x-python",
   "name": "python",
   "nbconvert_exporter": "python",
   "pygments_lexer": "ipython3",
   "version": "3.10.9"
  }
 },
 "nbformat": 4,
 "nbformat_minor": 5
}
