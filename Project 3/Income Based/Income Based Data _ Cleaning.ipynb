{
 "cells": [
  {
   "cell_type": "code",
   "execution_count": 2,
   "id": "302acf7a",
   "metadata": {},
   "outputs": [],
   "source": [
    "import pandas as pd\n",
    "pd.set_option('display.max_rows', None)\n",
    "pd.set_option('display.max_columns', None)\n",
    "from sklearn.impute import KNNImputer"
   ]
  },
  {
   "cell_type": "code",
   "execution_count": null,
   "id": "5fdb833a",
   "metadata": {},
   "outputs": [],
   "source": [
    "original = pd.read_csv('income_based_data.csv')"
   ]
  },
  {
   "cell_type": "code",
   "execution_count": null,
   "id": "2e1e5f3d",
   "metadata": {
    "scrolled": true
   },
   "outputs": [],
   "source": [
    "original"
   ]
  },
  {
   "cell_type": "code",
   "execution_count": null,
   "id": "2654fa91",
   "metadata": {
    "scrolled": true
   },
   "outputs": [],
   "source": [
    "list(original.columns)"
   ]
  },
  {
   "cell_type": "markdown",
   "id": "84a313f8",
   "metadata": {},
   "source": [
    "## Removing unnecessary columns"
   ]
  },
  {
   "cell_type": "code",
   "execution_count": null,
   "id": "70043b70",
   "metadata": {},
   "outputs": [],
   "source": [
    "original.drop('Unnamed: 0',axis='columns',inplace=True)"
   ]
  },
  {
   "cell_type": "code",
   "execution_count": null,
   "id": "42e08877",
   "metadata": {
    "scrolled": true
   },
   "outputs": [],
   "source": [
    "list(original.columns)"
   ]
  },
  {
   "cell_type": "code",
   "execution_count": null,
   "id": "780a7e2b",
   "metadata": {
    "scrolled": true
   },
   "outputs": [],
   "source": [
    "original"
   ]
  },
  {
   "cell_type": "code",
   "execution_count": null,
   "id": "f7e94ceb",
   "metadata": {
    "scrolled": true
   },
   "outputs": [],
   "source": [
    "original.isnull().sum()"
   ]
  },
  {
   "cell_type": "code",
   "execution_count": 1,
   "id": "c9e11f7d",
   "metadata": {
    "scrolled": false
   },
   "outputs": [
    {
     "ename": "NameError",
     "evalue": "name 'original' is not defined",
     "output_type": "error",
     "traceback": [
      "\u001b[1;31m---------------------------------------------------------------------------\u001b[0m",
      "\u001b[1;31mNameError\u001b[0m                                 Traceback (most recent call last)",
      "Cell \u001b[1;32mIn[1], line 1\u001b[0m\n\u001b[1;32m----> 1\u001b[0m all_null \u001b[38;5;241m=\u001b[39m \u001b[38;5;28mlist\u001b[39m(\u001b[43moriginal\u001b[49m\u001b[38;5;241m.\u001b[39misnull()\u001b[38;5;241m.\u001b[39msum()[original\u001b[38;5;241m.\u001b[39misnull()\u001b[38;5;241m.\u001b[39msum()\u001b[38;5;241m.\u001b[39mvalues \u001b[38;5;241m==\u001b[39m \u001b[38;5;241m378\u001b[39m]\u001b[38;5;241m.\u001b[39mindex)\n\u001b[0;32m      2\u001b[0m all_null\n",
      "\u001b[1;31mNameError\u001b[0m: name 'original' is not defined"
     ]
    }
   ],
   "source": [
    "all_null = list(original.isnull().sum()[original.isnull().sum().values == 378].index)\n",
    "all_null"
   ]
  },
  {
   "cell_type": "code",
   "execution_count": null,
   "id": "3834e892",
   "metadata": {
    "scrolled": true
   },
   "outputs": [],
   "source": [
    "original.dtypes"
   ]
  },
  {
   "cell_type": "code",
   "execution_count": null,
   "id": "40b0fd9b",
   "metadata": {},
   "outputs": [],
   "source": [
    "original.loc[:,all_null] = original.loc[:,all_null].fillna(0.0)"
   ]
  },
  {
   "cell_type": "code",
   "execution_count": null,
   "id": "35489424",
   "metadata": {
    "scrolled": true
   },
   "outputs": [],
   "source": [
    "original.isnull().sum()"
   ]
  },
  {
   "cell_type": "code",
   "execution_count": null,
   "id": "28edd895",
   "metadata": {
    "scrolled": true
   },
   "outputs": [],
   "source": [
    "original"
   ]
  },
  {
   "cell_type": "code",
   "execution_count": null,
   "id": "db4dd7f4",
   "metadata": {},
   "outputs": [],
   "source": [
    "original.shape"
   ]
  },
  {
   "cell_type": "code",
   "execution_count": null,
   "id": "2c7e736e",
   "metadata": {
    "scrolled": true
   },
   "outputs": [],
   "source": [
    "original[original['country'] == country].drop(['country'], axis='columns')"
   ]
  },
  {
   "cell_type": "code",
   "execution_count": null,
   "id": "64026de4",
   "metadata": {},
   "outputs": [],
   "source": [
    "data_copy = original.copy()\n",
    "\n",
    "imputing_columns = data_copy.drop(['country', 'date'], axis='columns')\n",
    "data_imputed = KNNImputer(n_neighbors=2).fit_transform(imputing_columns)\n",
    "imputed_df = pd.DataFrame(data_imputed, columns=imputing_columns.columns)\n",
    "imputed_df['Income Group'] = data_copy['country']\n",
    "imputed_df['year'] = pd.to_datetime(data_copy['date']).dt.year.values\n",
    "imputed_df"
   ]
  },
  {
   "cell_type": "code",
   "execution_count": null,
   "id": "67ed681d",
   "metadata": {
    "scrolled": true
   },
   "outputs": [],
   "source": [
    "imputed_df.isnull().sum()"
   ]
  },
  {
   "cell_type": "code",
   "execution_count": null,
   "id": "1b715a4d",
   "metadata": {
    "scrolled": true
   },
   "outputs": [],
   "source": [
    "imputed_df.dtypes"
   ]
  },
  {
   "cell_type": "code",
   "execution_count": null,
   "id": "ac2f42c9",
   "metadata": {},
   "outputs": [],
   "source": [
    "imputed_df.to_csv('Income Based Data _ Cleaned.csv')"
   ]
  }
 ],
 "metadata": {
  "kernelspec": {
   "display_name": "Python 3 (ipykernel)",
   "language": "python",
   "name": "python3"
  },
  "language_info": {
   "codemirror_mode": {
    "name": "ipython",
    "version": 3
   },
   "file_extension": ".py",
   "mimetype": "text/x-python",
   "name": "python",
   "nbconvert_exporter": "python",
   "pygments_lexer": "ipython3",
   "version": "3.10.9"
  }
 },
 "nbformat": 4,
 "nbformat_minor": 5
}
